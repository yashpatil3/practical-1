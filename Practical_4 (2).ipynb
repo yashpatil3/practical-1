{
 "cells": [
  {
   "cell_type": "code",
   "execution_count": 1,
   "id": "5a942117",
   "metadata": {},
   "outputs": [],
   "source": [
    "import pandas as pd"
   ]
  },
  {
   "cell_type": "code",
   "execution_count": 2,
   "id": "38814391",
   "metadata": {},
   "outputs": [],
   "source": [
    "import numpy as np"
   ]
  },
  {
   "cell_type": "code",
   "execution_count": 3,
   "id": "716d646f",
   "metadata": {},
   "outputs": [],
   "source": [
    "import matplotlib.pyplot"
   ]
  },
  {
   "cell_type": "code",
   "execution_count": 4,
   "id": "bebb56fd",
   "metadata": {},
   "outputs": [],
   "source": [
    "import seaborn as sns"
   ]
  },
  {
   "cell_type": "code",
   "execution_count": 5,
   "id": "117a666a",
   "metadata": {},
   "outputs": [],
   "source": [
    "dt=pd.read_csv('USA_Housing.csv')"
   ]
  },
  {
   "cell_type": "code",
   "execution_count": 6,
   "id": "b86f1b97",
   "metadata": {},
   "outputs": [
    {
     "data": {
      "text/html": [
       "<div>\n",
       "<style scoped>\n",
       "    .dataframe tbody tr th:only-of-type {\n",
       "        vertical-align: middle;\n",
       "    }\n",
       "\n",
       "    .dataframe tbody tr th {\n",
       "        vertical-align: top;\n",
       "    }\n",
       "\n",
       "    .dataframe thead th {\n",
       "        text-align: right;\n",
       "    }\n",
       "</style>\n",
       "<table border=\"1\" class=\"dataframe\">\n",
       "  <thead>\n",
       "    <tr style=\"text-align: right;\">\n",
       "      <th></th>\n",
       "      <th>Avg. Area Income</th>\n",
       "      <th>Avg. Area House Age</th>\n",
       "      <th>Avg. Area Number of Rooms</th>\n",
       "      <th>Avg. Area Number of Bedrooms</th>\n",
       "      <th>Area Population</th>\n",
       "      <th>Price</th>\n",
       "      <th>Address</th>\n",
       "    </tr>\n",
       "  </thead>\n",
       "  <tbody>\n",
       "    <tr>\n",
       "      <th>0</th>\n",
       "      <td>79545.458574</td>\n",
       "      <td>5.682861</td>\n",
       "      <td>7.009188</td>\n",
       "      <td>4.09</td>\n",
       "      <td>23086.800503</td>\n",
       "      <td>1.059034e+06</td>\n",
       "      <td>208 Michael Ferry Apt. 674\\nLaurabury, NE 3701...</td>\n",
       "    </tr>\n",
       "    <tr>\n",
       "      <th>1</th>\n",
       "      <td>79248.642455</td>\n",
       "      <td>6.002900</td>\n",
       "      <td>6.730821</td>\n",
       "      <td>3.09</td>\n",
       "      <td>40173.072174</td>\n",
       "      <td>1.505891e+06</td>\n",
       "      <td>188 Johnson Views Suite 079\\nLake Kathleen, CA...</td>\n",
       "    </tr>\n",
       "    <tr>\n",
       "      <th>2</th>\n",
       "      <td>61287.067179</td>\n",
       "      <td>5.865890</td>\n",
       "      <td>8.512727</td>\n",
       "      <td>5.13</td>\n",
       "      <td>36882.159400</td>\n",
       "      <td>1.058988e+06</td>\n",
       "      <td>9127 Elizabeth Stravenue\\nDanieltown, WI 06482...</td>\n",
       "    </tr>\n",
       "    <tr>\n",
       "      <th>3</th>\n",
       "      <td>63345.240046</td>\n",
       "      <td>7.188236</td>\n",
       "      <td>5.586729</td>\n",
       "      <td>3.26</td>\n",
       "      <td>34310.242831</td>\n",
       "      <td>1.260617e+06</td>\n",
       "      <td>USS Barnett\\nFPO AP 44820</td>\n",
       "    </tr>\n",
       "    <tr>\n",
       "      <th>4</th>\n",
       "      <td>59982.197226</td>\n",
       "      <td>5.040555</td>\n",
       "      <td>7.839388</td>\n",
       "      <td>4.23</td>\n",
       "      <td>26354.109472</td>\n",
       "      <td>6.309435e+05</td>\n",
       "      <td>USNS Raymond\\nFPO AE 09386</td>\n",
       "    </tr>\n",
       "    <tr>\n",
       "      <th>...</th>\n",
       "      <td>...</td>\n",
       "      <td>...</td>\n",
       "      <td>...</td>\n",
       "      <td>...</td>\n",
       "      <td>...</td>\n",
       "      <td>...</td>\n",
       "      <td>...</td>\n",
       "    </tr>\n",
       "    <tr>\n",
       "      <th>4995</th>\n",
       "      <td>60567.944140</td>\n",
       "      <td>7.830362</td>\n",
       "      <td>6.137356</td>\n",
       "      <td>3.46</td>\n",
       "      <td>22837.361035</td>\n",
       "      <td>1.060194e+06</td>\n",
       "      <td>USNS Williams\\nFPO AP 30153-7653</td>\n",
       "    </tr>\n",
       "    <tr>\n",
       "      <th>4996</th>\n",
       "      <td>78491.275435</td>\n",
       "      <td>6.999135</td>\n",
       "      <td>6.576763</td>\n",
       "      <td>4.02</td>\n",
       "      <td>25616.115489</td>\n",
       "      <td>1.482618e+06</td>\n",
       "      <td>PSC 9258, Box 8489\\nAPO AA 42991-3352</td>\n",
       "    </tr>\n",
       "    <tr>\n",
       "      <th>4997</th>\n",
       "      <td>63390.686886</td>\n",
       "      <td>7.250591</td>\n",
       "      <td>4.805081</td>\n",
       "      <td>2.13</td>\n",
       "      <td>33266.145490</td>\n",
       "      <td>1.030730e+06</td>\n",
       "      <td>4215 Tracy Garden Suite 076\\nJoshualand, VA 01...</td>\n",
       "    </tr>\n",
       "    <tr>\n",
       "      <th>4998</th>\n",
       "      <td>68001.331235</td>\n",
       "      <td>5.534388</td>\n",
       "      <td>7.130144</td>\n",
       "      <td>5.44</td>\n",
       "      <td>42625.620156</td>\n",
       "      <td>1.198657e+06</td>\n",
       "      <td>USS Wallace\\nFPO AE 73316</td>\n",
       "    </tr>\n",
       "    <tr>\n",
       "      <th>4999</th>\n",
       "      <td>65510.581804</td>\n",
       "      <td>5.992305</td>\n",
       "      <td>6.792336</td>\n",
       "      <td>4.07</td>\n",
       "      <td>46501.283803</td>\n",
       "      <td>1.298950e+06</td>\n",
       "      <td>37778 George Ridges Apt. 509\\nEast Holly, NV 2...</td>\n",
       "    </tr>\n",
       "  </tbody>\n",
       "</table>\n",
       "<p>5000 rows × 7 columns</p>\n",
       "</div>"
      ],
      "text/plain": [
       "      Avg. Area Income  Avg. Area House Age  Avg. Area Number of Rooms  \\\n",
       "0         79545.458574             5.682861                   7.009188   \n",
       "1         79248.642455             6.002900                   6.730821   \n",
       "2         61287.067179             5.865890                   8.512727   \n",
       "3         63345.240046             7.188236                   5.586729   \n",
       "4         59982.197226             5.040555                   7.839388   \n",
       "...                ...                  ...                        ...   \n",
       "4995      60567.944140             7.830362                   6.137356   \n",
       "4996      78491.275435             6.999135                   6.576763   \n",
       "4997      63390.686886             7.250591                   4.805081   \n",
       "4998      68001.331235             5.534388                   7.130144   \n",
       "4999      65510.581804             5.992305                   6.792336   \n",
       "\n",
       "      Avg. Area Number of Bedrooms  Area Population         Price  \\\n",
       "0                             4.09     23086.800503  1.059034e+06   \n",
       "1                             3.09     40173.072174  1.505891e+06   \n",
       "2                             5.13     36882.159400  1.058988e+06   \n",
       "3                             3.26     34310.242831  1.260617e+06   \n",
       "4                             4.23     26354.109472  6.309435e+05   \n",
       "...                            ...              ...           ...   \n",
       "4995                          3.46     22837.361035  1.060194e+06   \n",
       "4996                          4.02     25616.115489  1.482618e+06   \n",
       "4997                          2.13     33266.145490  1.030730e+06   \n",
       "4998                          5.44     42625.620156  1.198657e+06   \n",
       "4999                          4.07     46501.283803  1.298950e+06   \n",
       "\n",
       "                                                Address  \n",
       "0     208 Michael Ferry Apt. 674\\nLaurabury, NE 3701...  \n",
       "1     188 Johnson Views Suite 079\\nLake Kathleen, CA...  \n",
       "2     9127 Elizabeth Stravenue\\nDanieltown, WI 06482...  \n",
       "3                             USS Barnett\\nFPO AP 44820  \n",
       "4                            USNS Raymond\\nFPO AE 09386  \n",
       "...                                                 ...  \n",
       "4995                   USNS Williams\\nFPO AP 30153-7653  \n",
       "4996              PSC 9258, Box 8489\\nAPO AA 42991-3352  \n",
       "4997  4215 Tracy Garden Suite 076\\nJoshualand, VA 01...  \n",
       "4998                          USS Wallace\\nFPO AE 73316  \n",
       "4999  37778 George Ridges Apt. 509\\nEast Holly, NV 2...  \n",
       "\n",
       "[5000 rows x 7 columns]"
      ]
     },
     "execution_count": 6,
     "metadata": {},
     "output_type": "execute_result"
    }
   ],
   "source": [
    "dt"
   ]
  },
  {
   "cell_type": "code",
   "execution_count": 7,
   "id": "fab9b69d",
   "metadata": {},
   "outputs": [
    {
     "name": "stdout",
     "output_type": "stream",
     "text": [
      "<class 'pandas.core.frame.DataFrame'>\n",
      "RangeIndex: 5000 entries, 0 to 4999\n",
      "Data columns (total 7 columns):\n",
      " #   Column                        Non-Null Count  Dtype  \n",
      "---  ------                        --------------  -----  \n",
      " 0   Avg. Area Income              5000 non-null   float64\n",
      " 1   Avg. Area House Age           5000 non-null   float64\n",
      " 2   Avg. Area Number of Rooms     5000 non-null   float64\n",
      " 3   Avg. Area Number of Bedrooms  5000 non-null   float64\n",
      " 4   Area Population               5000 non-null   float64\n",
      " 5   Price                         5000 non-null   float64\n",
      " 6   Address                       5000 non-null   object \n",
      "dtypes: float64(6), object(1)\n",
      "memory usage: 273.6+ KB\n"
     ]
    }
   ],
   "source": [
    "dt.info()"
   ]
  },
  {
   "cell_type": "code",
   "execution_count": 8,
   "id": "2290b2bf",
   "metadata": {},
   "outputs": [
    {
     "data": {
      "text/html": [
       "<div>\n",
       "<style scoped>\n",
       "    .dataframe tbody tr th:only-of-type {\n",
       "        vertical-align: middle;\n",
       "    }\n",
       "\n",
       "    .dataframe tbody tr th {\n",
       "        vertical-align: top;\n",
       "    }\n",
       "\n",
       "    .dataframe thead th {\n",
       "        text-align: right;\n",
       "    }\n",
       "</style>\n",
       "<table border=\"1\" class=\"dataframe\">\n",
       "  <thead>\n",
       "    <tr style=\"text-align: right;\">\n",
       "      <th></th>\n",
       "      <th>Avg. Area Income</th>\n",
       "      <th>Avg. Area House Age</th>\n",
       "      <th>Avg. Area Number of Rooms</th>\n",
       "      <th>Avg. Area Number of Bedrooms</th>\n",
       "      <th>Area Population</th>\n",
       "      <th>Price</th>\n",
       "    </tr>\n",
       "  </thead>\n",
       "  <tbody>\n",
       "    <tr>\n",
       "      <th>count</th>\n",
       "      <td>5000.000000</td>\n",
       "      <td>5000.000000</td>\n",
       "      <td>5000.000000</td>\n",
       "      <td>5000.000000</td>\n",
       "      <td>5000.000000</td>\n",
       "      <td>5.000000e+03</td>\n",
       "    </tr>\n",
       "    <tr>\n",
       "      <th>mean</th>\n",
       "      <td>68583.108984</td>\n",
       "      <td>5.977222</td>\n",
       "      <td>6.987792</td>\n",
       "      <td>3.981330</td>\n",
       "      <td>36163.516039</td>\n",
       "      <td>1.232073e+06</td>\n",
       "    </tr>\n",
       "    <tr>\n",
       "      <th>std</th>\n",
       "      <td>10657.991214</td>\n",
       "      <td>0.991456</td>\n",
       "      <td>1.005833</td>\n",
       "      <td>1.234137</td>\n",
       "      <td>9925.650114</td>\n",
       "      <td>3.531176e+05</td>\n",
       "    </tr>\n",
       "    <tr>\n",
       "      <th>min</th>\n",
       "      <td>17796.631190</td>\n",
       "      <td>2.644304</td>\n",
       "      <td>3.236194</td>\n",
       "      <td>2.000000</td>\n",
       "      <td>172.610686</td>\n",
       "      <td>1.593866e+04</td>\n",
       "    </tr>\n",
       "    <tr>\n",
       "      <th>25%</th>\n",
       "      <td>61480.562388</td>\n",
       "      <td>5.322283</td>\n",
       "      <td>6.299250</td>\n",
       "      <td>3.140000</td>\n",
       "      <td>29403.928702</td>\n",
       "      <td>9.975771e+05</td>\n",
       "    </tr>\n",
       "    <tr>\n",
       "      <th>50%</th>\n",
       "      <td>68804.286404</td>\n",
       "      <td>5.970429</td>\n",
       "      <td>7.002902</td>\n",
       "      <td>4.050000</td>\n",
       "      <td>36199.406689</td>\n",
       "      <td>1.232669e+06</td>\n",
       "    </tr>\n",
       "    <tr>\n",
       "      <th>75%</th>\n",
       "      <td>75783.338666</td>\n",
       "      <td>6.650808</td>\n",
       "      <td>7.665871</td>\n",
       "      <td>4.490000</td>\n",
       "      <td>42861.290769</td>\n",
       "      <td>1.471210e+06</td>\n",
       "    </tr>\n",
       "    <tr>\n",
       "      <th>max</th>\n",
       "      <td>107701.748378</td>\n",
       "      <td>9.519088</td>\n",
       "      <td>10.759588</td>\n",
       "      <td>6.500000</td>\n",
       "      <td>69621.713378</td>\n",
       "      <td>2.469066e+06</td>\n",
       "    </tr>\n",
       "  </tbody>\n",
       "</table>\n",
       "</div>"
      ],
      "text/plain": [
       "       Avg. Area Income  Avg. Area House Age  Avg. Area Number of Rooms  \\\n",
       "count       5000.000000          5000.000000                5000.000000   \n",
       "mean       68583.108984             5.977222                   6.987792   \n",
       "std        10657.991214             0.991456                   1.005833   \n",
       "min        17796.631190             2.644304                   3.236194   \n",
       "25%        61480.562388             5.322283                   6.299250   \n",
       "50%        68804.286404             5.970429                   7.002902   \n",
       "75%        75783.338666             6.650808                   7.665871   \n",
       "max       107701.748378             9.519088                  10.759588   \n",
       "\n",
       "       Avg. Area Number of Bedrooms  Area Population         Price  \n",
       "count                   5000.000000      5000.000000  5.000000e+03  \n",
       "mean                       3.981330     36163.516039  1.232073e+06  \n",
       "std                        1.234137      9925.650114  3.531176e+05  \n",
       "min                        2.000000       172.610686  1.593866e+04  \n",
       "25%                        3.140000     29403.928702  9.975771e+05  \n",
       "50%                        4.050000     36199.406689  1.232669e+06  \n",
       "75%                        4.490000     42861.290769  1.471210e+06  \n",
       "max                        6.500000     69621.713378  2.469066e+06  "
      ]
     },
     "execution_count": 8,
     "metadata": {},
     "output_type": "execute_result"
    }
   ],
   "source": [
    "dt.describe()"
   ]
  },
  {
   "cell_type": "code",
   "execution_count": 9,
   "id": "44a2881a",
   "metadata": {},
   "outputs": [
    {
     "data": {
      "text/plain": [
       "Index(['Avg. Area Income', 'Avg. Area House Age', 'Avg. Area Number of Rooms',\n",
       "       'Avg. Area Number of Bedrooms', 'Area Population', 'Price', 'Address'],\n",
       "      dtype='object')"
      ]
     },
     "execution_count": 9,
     "metadata": {},
     "output_type": "execute_result"
    }
   ],
   "source": [
    "dt.columns"
   ]
  },
  {
   "cell_type": "code",
   "execution_count": 10,
   "id": "dfc07122",
   "metadata": {},
   "outputs": [],
   "source": [
    "x=dt[['Avg. Area Income', 'Avg. Area House Age', 'Avg. Area Number of Rooms',\n",
    "       'Avg. Area Number of Bedrooms', 'Area Population',]]"
   ]
  },
  {
   "cell_type": "code",
   "execution_count": 11,
   "id": "7bbed3d9",
   "metadata": {},
   "outputs": [
    {
     "data": {
      "text/html": [
       "<div>\n",
       "<style scoped>\n",
       "    .dataframe tbody tr th:only-of-type {\n",
       "        vertical-align: middle;\n",
       "    }\n",
       "\n",
       "    .dataframe tbody tr th {\n",
       "        vertical-align: top;\n",
       "    }\n",
       "\n",
       "    .dataframe thead th {\n",
       "        text-align: right;\n",
       "    }\n",
       "</style>\n",
       "<table border=\"1\" class=\"dataframe\">\n",
       "  <thead>\n",
       "    <tr style=\"text-align: right;\">\n",
       "      <th></th>\n",
       "      <th>Avg. Area Income</th>\n",
       "      <th>Avg. Area House Age</th>\n",
       "      <th>Avg. Area Number of Rooms</th>\n",
       "      <th>Avg. Area Number of Bedrooms</th>\n",
       "      <th>Area Population</th>\n",
       "    </tr>\n",
       "  </thead>\n",
       "  <tbody>\n",
       "    <tr>\n",
       "      <th>0</th>\n",
       "      <td>79545.458574</td>\n",
       "      <td>5.682861</td>\n",
       "      <td>7.009188</td>\n",
       "      <td>4.09</td>\n",
       "      <td>23086.800503</td>\n",
       "    </tr>\n",
       "    <tr>\n",
       "      <th>1</th>\n",
       "      <td>79248.642455</td>\n",
       "      <td>6.002900</td>\n",
       "      <td>6.730821</td>\n",
       "      <td>3.09</td>\n",
       "      <td>40173.072174</td>\n",
       "    </tr>\n",
       "    <tr>\n",
       "      <th>2</th>\n",
       "      <td>61287.067179</td>\n",
       "      <td>5.865890</td>\n",
       "      <td>8.512727</td>\n",
       "      <td>5.13</td>\n",
       "      <td>36882.159400</td>\n",
       "    </tr>\n",
       "    <tr>\n",
       "      <th>3</th>\n",
       "      <td>63345.240046</td>\n",
       "      <td>7.188236</td>\n",
       "      <td>5.586729</td>\n",
       "      <td>3.26</td>\n",
       "      <td>34310.242831</td>\n",
       "    </tr>\n",
       "    <tr>\n",
       "      <th>4</th>\n",
       "      <td>59982.197226</td>\n",
       "      <td>5.040555</td>\n",
       "      <td>7.839388</td>\n",
       "      <td>4.23</td>\n",
       "      <td>26354.109472</td>\n",
       "    </tr>\n",
       "    <tr>\n",
       "      <th>...</th>\n",
       "      <td>...</td>\n",
       "      <td>...</td>\n",
       "      <td>...</td>\n",
       "      <td>...</td>\n",
       "      <td>...</td>\n",
       "    </tr>\n",
       "    <tr>\n",
       "      <th>4995</th>\n",
       "      <td>60567.944140</td>\n",
       "      <td>7.830362</td>\n",
       "      <td>6.137356</td>\n",
       "      <td>3.46</td>\n",
       "      <td>22837.361035</td>\n",
       "    </tr>\n",
       "    <tr>\n",
       "      <th>4996</th>\n",
       "      <td>78491.275435</td>\n",
       "      <td>6.999135</td>\n",
       "      <td>6.576763</td>\n",
       "      <td>4.02</td>\n",
       "      <td>25616.115489</td>\n",
       "    </tr>\n",
       "    <tr>\n",
       "      <th>4997</th>\n",
       "      <td>63390.686886</td>\n",
       "      <td>7.250591</td>\n",
       "      <td>4.805081</td>\n",
       "      <td>2.13</td>\n",
       "      <td>33266.145490</td>\n",
       "    </tr>\n",
       "    <tr>\n",
       "      <th>4998</th>\n",
       "      <td>68001.331235</td>\n",
       "      <td>5.534388</td>\n",
       "      <td>7.130144</td>\n",
       "      <td>5.44</td>\n",
       "      <td>42625.620156</td>\n",
       "    </tr>\n",
       "    <tr>\n",
       "      <th>4999</th>\n",
       "      <td>65510.581804</td>\n",
       "      <td>5.992305</td>\n",
       "      <td>6.792336</td>\n",
       "      <td>4.07</td>\n",
       "      <td>46501.283803</td>\n",
       "    </tr>\n",
       "  </tbody>\n",
       "</table>\n",
       "<p>5000 rows × 5 columns</p>\n",
       "</div>"
      ],
      "text/plain": [
       "      Avg. Area Income  Avg. Area House Age  Avg. Area Number of Rooms  \\\n",
       "0         79545.458574             5.682861                   7.009188   \n",
       "1         79248.642455             6.002900                   6.730821   \n",
       "2         61287.067179             5.865890                   8.512727   \n",
       "3         63345.240046             7.188236                   5.586729   \n",
       "4         59982.197226             5.040555                   7.839388   \n",
       "...                ...                  ...                        ...   \n",
       "4995      60567.944140             7.830362                   6.137356   \n",
       "4996      78491.275435             6.999135                   6.576763   \n",
       "4997      63390.686886             7.250591                   4.805081   \n",
       "4998      68001.331235             5.534388                   7.130144   \n",
       "4999      65510.581804             5.992305                   6.792336   \n",
       "\n",
       "      Avg. Area Number of Bedrooms  Area Population  \n",
       "0                             4.09     23086.800503  \n",
       "1                             3.09     40173.072174  \n",
       "2                             5.13     36882.159400  \n",
       "3                             3.26     34310.242831  \n",
       "4                             4.23     26354.109472  \n",
       "...                            ...              ...  \n",
       "4995                          3.46     22837.361035  \n",
       "4996                          4.02     25616.115489  \n",
       "4997                          2.13     33266.145490  \n",
       "4998                          5.44     42625.620156  \n",
       "4999                          4.07     46501.283803  \n",
       "\n",
       "[5000 rows x 5 columns]"
      ]
     },
     "execution_count": 11,
     "metadata": {},
     "output_type": "execute_result"
    }
   ],
   "source": [
    "x"
   ]
  },
  {
   "cell_type": "code",
   "execution_count": 14,
   "id": "007ebe74",
   "metadata": {},
   "outputs": [],
   "source": [
    "y=dt['Price']"
   ]
  },
  {
   "cell_type": "code",
   "execution_count": 15,
   "id": "c102248e",
   "metadata": {},
   "outputs": [
    {
     "data": {
      "text/plain": [
       "<seaborn.axisgrid.FacetGrid at 0x2c7526104d0>"
      ]
     },
     "execution_count": 15,
     "metadata": {},
     "output_type": "execute_result"
    },
    {
     "data": {
      "image/png": "[encoded data removed]",
      "text/plain": [
       "<Figure size 500x500 with 1 Axes>"
      ]
     },
     "metadata": {},
     "output_type": "display_data"
    }
   ],
   "source": [
    "sns.displot(dt['Price'])"
   ]
  },
  {
   "cell_type": "code",
   "execution_count": 17,
   "id": "57dd5083",
   "metadata": {},
   "outputs": [
    {
     "name": "stderr",
     "output_type": "stream",
     "text": [
      "C:\\Users\\Welcome\\AppData\\Local\\Temp\\ipykernel_12600\\3431132761.py:1: FutureWarning: The default value of numeric_only in DataFrame.corr is deprecated. In a future version, it will default to False. Select only valid columns or specify the value of numeric_only to silence this warning.\n",
      "  sns.heatmap(dt.corr(),annot=True)\n"
     ]
    },
    {
     "data": {
      "text/plain": [
       "<Axes: >"
      ]
     },
     "execution_count": 17,
     "metadata": {},
     "output_type": "execute_result"
    },
    {
     "data": {
      "image/png": "[encoded data removed]",
      "text/plain": [
       "<Figure size 640x480 with 2 Axes>"
      ]
     },
     "metadata": {},
     "output_type": "display_data"
    }
   ],
   "source": [
    "sns.heatmap(dt.corr(),annot=True)"
   ]
  },
  {
   "cell_type": "code",
   "execution_count": 18,
   "id": "fd72d666",
   "metadata": {},
   "outputs": [],
   "source": [
    "from sklearn.model_selection import train_test_split"
   ]
  },
  {
   "cell_type": "code",
   "execution_count": 19,
   "id": "55fcfdef",
   "metadata": {},
   "outputs": [],
   "source": [
    "X_train,X_test,Y_train,Y_test=train_test_split(x,y,test_size=0.3,random_state=100)"
   ]
  },
  {
   "cell_type": "code",
   "execution_count": 20,
   "id": "166da6d1",
   "metadata": {},
   "outputs": [],
   "source": [
    "from sklearn.linear_model import LinearRegression"
   ]
  },
  {
   "cell_type": "code",
   "execution_count": 21,
   "id": "c92e72be",
   "metadata": {},
   "outputs": [],
   "source": [
    "lm=LinearRegression()"
   ]
  },
  {
   "cell_type": "code",
   "execution_count": 22,
   "id": "79498d50",
   "metadata": {},
   "outputs": [
    {
     "data": {
      "text/html": [
       "<style>#sk-container-id-1 {color: black;}#sk-container-id-1 pre{padding: 0;}#sk-container-id-1 div.sk-toggleable {background-color: white;}#sk-container-id-1 label.sk-toggleable__label {cursor: pointer;display: block;width: 100%;margin-bottom: 0;padding: 0.3em;box-sizing: border-box;text-align: center;}#sk-container-id-1 label.sk-toggleable__label-arrow:before {content: \"▸\";float: left;margin-right: 0.25em;color: #696969;}#sk-container-id-1 label.sk-toggleable__label-arrow:hover:before {color: black;}#sk-container-id-1 div.sk-estimator:hover label.sk-toggleable__label-arrow:before {color: black;}#sk-container-id-1 div.sk-toggleable__content {max-height: 0;max-width: 0;overflow: hidden;text-align: left;background-color: #f0f8ff;}#sk-container-id-1 div.sk-toggleable__content pre {margin: 0.2em;color: black;border-radius: 0.25em;background-color: #f0f8ff;}#sk-container-id-1 input.sk-toggleable__control:checked~div.sk-toggleable__content {max-height: 200px;max-width: 100%;overflow: auto;}#sk-container-id-1 input.sk-toggleable__control:checked~label.sk-toggleable__label-arrow:before {content: \"▾\";}#sk-container-id-1 div.sk-estimator input.sk-toggleable__control:checked~label.sk-toggleable__label {background-color: #d4ebff;}#sk-container-id-1 div.sk-label input.sk-toggleable__control:checked~label.sk-toggleable__label {background-color: #d4ebff;}#sk-container-id-1 input.sk-hidden--visually {border: 0;clip: rect(1px 1px 1px 1px);clip: rect(1px, 1px, 1px, 1px);height: 1px;margin: -1px;overflow: hidden;padding: 0;position: absolute;width: 1px;}#sk-container-id-1 div.sk-estimator {font-family: monospace;background-color: #f0f8ff;border: 1px dotted black;border-radius: 0.25em;box-sizing: border-box;margin-bottom: 0.5em;}#sk-container-id-1 div.sk-estimator:hover {background-color: #d4ebff;}#sk-container-id-1 div.sk-parallel-item::after {content: \"\";width: 100%;border-bottom: 1px solid gray;flex-grow: 1;}#sk-container-id-1 div.sk-label:hover label.sk-toggleable__label {background-color: #d4ebff;}#sk-container-id-1 div.sk-serial::before {content: \"\";position: absolute;border-left: 1px solid gray;box-sizing: border-box;top: 0;bottom: 0;left: 50%;z-index: 0;}#sk-container-id-1 div.sk-serial {display: flex;flex-direction: column;align-items: center;background-color: white;padding-right: 0.2em;padding-left: 0.2em;position: relative;}#sk-container-id-1 div.sk-item {position: relative;z-index: 1;}#sk-container-id-1 div.sk-parallel {display: flex;align-items: stretch;justify-content: center;background-color: white;position: relative;}#sk-container-id-1 div.sk-item::before, #sk-container-id-1 div.sk-parallel-item::before {content: \"\";position: absolute;border-left: 1px solid gray;box-sizing: border-box;top: 0;bottom: 0;left: 50%;z-index: -1;}#sk-container-id-1 div.sk-parallel-item {display: flex;flex-direction: column;z-index: 1;position: relative;background-color: white;}#sk-container-id-1 div.sk-parallel-item:first-child::after {align-self: flex-end;width: 50%;}#sk-container-id-1 div.sk-parallel-item:last-child::after {align-self: flex-start;width: 50%;}#sk-container-id-1 div.sk-parallel-item:only-child::after {width: 0;}#sk-container-id-1 div.sk-dashed-wrapped {border: 1px dashed gray;margin: 0 0.4em 0.5em 0.4em;box-sizing: border-box;padding-bottom: 0.4em;background-color: white;}#sk-container-id-1 div.sk-label label {font-family: monospace;font-weight: bold;display: inline-block;line-height: 1.2em;}#sk-container-id-1 div.sk-label-container {text-align: center;}#sk-container-id-1 div.sk-container {/* jupyter's `normalize.less` sets `[hidden] { display: none; }` but bootstrap.min.css set `[hidden] { display: none !important; }` so we also need the `!important` here to be able to override the default hidden behavior on the sphinx rendered scikit-learn.org. See: https://github.com/scikit-learn/scikit-learn/issues/21755 */display: inline-block !important;position: relative;}#sk-container-id-1 div.sk-text-repr-fallback {display: none;}</style><div id=\"sk-container-id-1\" class=\"sk-top-container\"><div class=\"sk-text-repr-fallback\"><pre>LinearRegression()</pre><b>In a Jupyter environment, please rerun this cell to show the HTML representation or trust the notebook. <br />On GitHub, the HTML representation is unable to render, please try loading this page with nbviewer.org.</b></div><div class=\"sk-container\" hidden><div class=\"sk-item\"><div class=\"sk-estimator sk-toggleable\"><input class=\"sk-toggleable__control sk-hidden--visually\" id=\"sk-estimator-id-1\" type=\"checkbox\" checked><label for=\"sk-estimator-id-1\" class=\"sk-toggleable__label sk-toggleable__label-arrow\">LinearRegression</label><div class=\"sk-toggleable__content\"><pre>LinearRegression()</pre></div></div></div></div></div>"
      ],
      "text/plain": [
       "LinearRegression()"
      ]
     },
     "execution_count": 22,
     "metadata": {},
     "output_type": "execute_result"
    }
   ],
   "source": [
    "lm.fit(X_train,Y_train)"
   ]
  },
  {
   "cell_type": "code",
   "execution_count": 23,
   "id": "582d39db",
   "metadata": {},
   "outputs": [],
   "source": [
    "predict=lm.predict(X_test)"
   ]
  },
  {
   "cell_type": "code",
   "execution_count": 29,
   "id": "3218dc65",
   "metadata": {},
   "outputs": [],
   "source": [
    "import sklearn\n",
    "from sklearn.linear_model import LinearRegression\n",
    "lm = LinearRegression()\n",
    "model=lm.fit(X_train, Y_train)"
   ]
  },
  {
   "cell_type": "code",
   "execution_count": 32,
   "id": "b9ace111",
   "metadata": {},
   "outputs": [],
   "source": [
    "Ytrain_pred = lm.predict(X_train)\n",
    "Ytest_pred = lm.predict(X_test)"
   ]
  },
  {
   "cell_type": "code",
   "execution_count": 33,
   "id": "c66ddd27",
   "metadata": {},
   "outputs": [],
   "source": [
    "dt=pd.DataFrame(Ytrain_pred,Y_train)\n",
    "dt=pd.DataFrame(Ytest_pred,Y_test)"
   ]
  },
  {
   "cell_type": "code",
   "execution_count": 34,
   "id": "566465fb",
   "metadata": {},
   "outputs": [
    {
     "name": "stdout",
     "output_type": "stream",
     "text": [
      "10340528517.994118\n",
      "10172295928.308098\n"
     ]
    }
   ],
   "source": [
    "from sklearn.metrics import mean_squared_error, r2_score\n",
    "mse = mean_squared_error(Y_test, Ytest_pred)\n",
    "print(mse)\n",
    "mse = mean_squared_error(Ytrain_pred,Y_train)\n",
    "print(mse)"
   ]
  },
  {
   "cell_type": "code",
   "execution_count": 35,
   "id": "2c54c226",
   "metadata": {},
   "outputs": [
    {
     "name": "stdout",
     "output_type": "stream",
     "text": [
      "10340528517.994118\n"
     ]
    }
   ],
   "source": [
    "mse = mean_squared_error(Y_test, Ytest_pred)\n",
    "print(mse)"
   ]
  }
 ],
 "metadata": {
  "kernelspec": {
   "display_name": "Python 3 (ipykernel)",
   "language": "python",
   "name": "python3"
  },
  "language_info": {
   "codemirror_mode": {
    "name": "ipython",
    "version": 3
   },
   "file_extension": ".py",
   "mimetype": "text/x-python",
   "name": "python",
   "nbconvert_exporter": "python",
   "pygments_lexer": "ipython3",
   "version": "3.11.4"
  }
 },
 "nbformat": 4,
 "nbformat_minor": 5
}
